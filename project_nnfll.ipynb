{
  "nbformat": 4,
  "nbformat_minor": 0,
  "metadata": {
    "colab": {
      "name": "project_nnfll.ipynb",
      "provenance": [],
      "collapsed_sections": []
    },
    "kernelspec": {
      "display_name": "Python 3",
      "name": "python3"
    },
    "language_info": {
      "name": "python"
    }
  },
  "cells": [
    {
      "cell_type": "code",
      "metadata": {
        "colab": {
          "base_uri": "https://localhost:8080/"
        },
        "id": "wYmPxtGoUfZt",
        "outputId": "9d6305df-3f1c-4f91-bbd6-cdac285421d1"
      },
      "source": [
        "import tensorflow as tf\n",
        "print(tf.__version__)"
      ],
      "execution_count": null,
      "outputs": [
        {
          "output_type": "stream",
          "text": [
            "2.4.1\n"
          ],
          "name": "stdout"
        }
      ]
    },
    {
      "cell_type": "code",
      "metadata": {
        "id": "rOKkXZq7_NDh"
      },
      "source": [
        "import numpy as np \n",
        "import pandas as pd \n",
        "import matplotlib.pyplot as plt\n",
        "%matplotlib inline\n",
        "import tensorflow as tf\n",
        "import keras\n",
        "import glob\n",
        "import cv2\n",
        "import cv2 as cv\n",
        "import os"
      ],
      "execution_count": null,
      "outputs": []
    },
    {
      "cell_type": "code",
      "metadata": {
        "id": "tLaB6TbHBvZr"
      },
      "source": [
        "fruit_images = []\n",
        "labels = [] \n",
        "for fruit_dir_path in glob.glob(\"/content/drive/MyDrive/Colab Notebooks/nnfl/Fruit-Images-Dataset-master/Training/*\"):\n",
        "    fruit_label = fruit_dir_path.split(\"/\")[-1]\n",
        "    for image_path in glob.glob(os.path.join(fruit_dir_path, \"*.jpg\")):\n",
        "        image = cv2.imread(image_path, cv2.IMREAD_COLOR)\n",
        "        \n",
        "        image = cv2.resize(image, (45, 45))\n",
        "        image = cv2.cvtColor(image, cv2.COLOR_RGB2BGR)\n",
        "        \n",
        "        fruit_images.append(image)\n",
        "        labels.append(fruit_label)\n",
        "fruit_images = np.array(fruit_images)\n",
        "labels = np.array(labels)"
      ],
      "execution_count": null,
      "outputs": []
    },
    {
      "cell_type": "code",
      "metadata": {
        "id": "1ZdNmhXLCay5",
        "colab": {
          "base_uri": "https://localhost:8080/",
          "height": 182
        },
        "outputId": "677e90c4-8da1-4712-fba0-d05044928641"
      },
      "source": [
        "label_to_id_dict = {v:i for i,v in enumerate(np.unique(labels))}\n",
        "id_to_label_dict = {v: k for k, v in label_to_id_dict.items()}"
      ],
      "execution_count": null,
      "outputs": [
        {
          "output_type": "error",
          "ename": "NameError",
          "evalue": "ignored",
          "traceback": [
            "\u001b[0;31m---------------------------------------------------------------------------\u001b[0m",
            "\u001b[0;31mNameError\u001b[0m                                 Traceback (most recent call last)",
            "\u001b[0;32m<ipython-input-1-0cb330803391>\u001b[0m in \u001b[0;36m<module>\u001b[0;34m()\u001b[0m\n\u001b[0;32m----> 1\u001b[0;31m \u001b[0mlabel_to_id_dict\u001b[0m \u001b[0;34m=\u001b[0m \u001b[0;34m{\u001b[0m\u001b[0mv\u001b[0m\u001b[0;34m:\u001b[0m\u001b[0mi\u001b[0m \u001b[0;32mfor\u001b[0m \u001b[0mi\u001b[0m\u001b[0;34m,\u001b[0m\u001b[0mv\u001b[0m \u001b[0;32min\u001b[0m \u001b[0menumerate\u001b[0m\u001b[0;34m(\u001b[0m\u001b[0mnp\u001b[0m\u001b[0;34m.\u001b[0m\u001b[0munique\u001b[0m\u001b[0;34m(\u001b[0m\u001b[0mlabels\u001b[0m\u001b[0;34m)\u001b[0m\u001b[0;34m)\u001b[0m\u001b[0;34m}\u001b[0m\u001b[0;34m\u001b[0m\u001b[0;34m\u001b[0m\u001b[0m\n\u001b[0m\u001b[1;32m      2\u001b[0m \u001b[0mid_to_label_dict\u001b[0m \u001b[0;34m=\u001b[0m \u001b[0;34m{\u001b[0m\u001b[0mv\u001b[0m\u001b[0;34m:\u001b[0m \u001b[0mk\u001b[0m \u001b[0;32mfor\u001b[0m \u001b[0mk\u001b[0m\u001b[0;34m,\u001b[0m \u001b[0mv\u001b[0m \u001b[0;32min\u001b[0m \u001b[0mlabel_to_id_dict\u001b[0m\u001b[0;34m.\u001b[0m\u001b[0mitems\u001b[0m\u001b[0;34m(\u001b[0m\u001b[0;34m)\u001b[0m\u001b[0;34m}\u001b[0m\u001b[0;34m\u001b[0m\u001b[0;34m\u001b[0m\u001b[0m\n",
            "\u001b[0;31mNameError\u001b[0m: name 'np' is not defined"
          ]
        }
      ]
    },
    {
      "cell_type": "code",
      "metadata": {
        "id": "AkDXKRqKCe55"
      },
      "source": [
        "id_to_label_dict"
      ],
      "execution_count": null,
      "outputs": []
    },
    {
      "cell_type": "code",
      "metadata": {
        "id": "QCrcTvK1VKlB"
      },
      "source": [
        "label_ids = np.array([label_to_id_dict[x] for x in labels])"
      ],
      "execution_count": null,
      "outputs": []
    },
    {
      "cell_type": "code",
      "metadata": {
        "id": "_iFVPSCfVOH_"
      },
      "source": [
        "fruit_images.shape, label_ids.shape, labels.shape\n"
      ],
      "execution_count": null,
      "outputs": []
    },
    {
      "cell_type": "code",
      "metadata": {
        "id": "eeCgf5dYVS5f"
      },
      "source": [
        "validation_fruit_images = []\n",
        "validation_labels = [] \n",
        "for fruit_dir_path in glob.glob(\"/content/drive/MyDrive/Colab Notebooks/nnfl/Fruit-Images-Dataset-master/Test*\"):\n",
        "    fruit_label = fruit_dir_path.split(\"/\")[-1]\n",
        "    for image_path in glob.glob(os.path.join(fruit_dir_path, \"*.jpg\")):\n",
        "        image = cv2.imread(image_path, cv2.IMREAD_COLOR)\n",
        "        \n",
        "        image = cv2.resize(image, (45, 45))\n",
        "        image = cv2.cvtColor(image, cv2.COLOR_RGB2BGR)\n",
        "        \n",
        "        validation_fruit_images.append(image)\n",
        "        validation_labels.append(fruit_label)\n",
        "validation_fruit_images = np.array(validation_fruit_images)\n",
        "validation_labels = np.array(validation_labels)"
      ],
      "execution_count": null,
      "outputs": []
    },
    {
      "cell_type": "code",
      "metadata": {
        "id": "RV_cqkEia2tv"
      },
      "source": [
        "validation_label_ids = np.array([label_to_id_dict[x] for x in validation_labels])"
      ],
      "execution_count": null,
      "outputs": []
    },
    {
      "cell_type": "code",
      "metadata": {
        "id": "G-XOLb77WFtu"
      },
      "source": [
        "validation_fruit_images.shape, validation_label_ids.shape"
      ],
      "execution_count": null,
      "outputs": []
    },
    {
      "cell_type": "code",
      "metadata": {
        "id": "iO1534G-fhMG"
      },
      "source": [
        "X_train, X_test = fruit_images, validation_fruit_images\n",
        "Y_train, Y_test = label_ids, validation_label_ids\n",
        "\n",
        "#Normalize color values to between 0 and 1\n",
        "X_train = X_train/255\n",
        "X_test = X_test/255\n",
        "\n",
        "#Make a flattened version for some of our models\n",
        "X_flat_train = X_train.reshape(X_train.shape[0], 45*45*3)\n",
        "X_flat_test = X_test.reshape(X_test.shape[0], 45*45*3)\n",
        "\n",
        "#One Hot Encode the Output\n",
        "Y_train = keras.utils.to_categorical(Y_train, 60)\n",
        "Y_test = keras.utils.to_categorical(Y_test, 60)\n",
        "\n",
        "print('Original Sizes:', X_train.shape, X_test.shape, Y_train.shape, Y_test.shape)\n",
        "print('Flattened:', X_flat_train.shape, X_flat_test.shape)"
      ],
      "execution_count": null,
      "outputs": []
    },
    {
      "cell_type": "code",
      "metadata": {
        "id": "yidx2ybniZUF"
      },
      "source": [
        "print(Y_train.shape)"
      ],
      "execution_count": null,
      "outputs": []
    },
    {
      "cell_type": "code",
      "metadata": {
        "id": "IDQlcSfil75s"
      },
      "source": [
        "print(X_train[0].shape)\n",
        "plt.imshow(X_train[0])\n",
        "plt.show()"
      ],
      "execution_count": null,
      "outputs": []
    },
    {
      "cell_type": "code",
      "metadata": {
        "id": "AzgoIL0amDd9"
      },
      "source": [
        "from keras.models import Sequential\n",
        "from keras.layers import Dense, Dropout, Flatten, Conv2D, MaxPooling2D\n",
        "from keras.layers import LSTM, Input, TimeDistributed\n",
        "from keras.models import Model\n",
        "from keras.optimizers import RMSprop, SGD\n",
        "\n",
        "# Import the backend\n",
        "from keras import backend as K"
      ],
      "execution_count": null,
      "outputs": []
    },
    {
      "cell_type": "code",
      "metadata": {
        "id": "_4icUK8Gr_Fr"
      },
      "source": [
        "model_dense = Sequential()\n",
        "\n",
        "# Add dense layers to create a fully connected MLP\n",
        "# Note that we specify an input shape for the first layer, but only the first layer.\n",
        "# Relu is the activation function used\n",
        "model_dense.add(Dense(128, activation='relu', input_shape=(X_flat_train.shape[1],)))\n",
        "# Dropout layers remove features and fight overfitting\n",
        "model_dense.add(Dropout(0.1))\n",
        "model_dense.add(Dense(64, activation='relu'))\n",
        "model_dense.add(Dropout(0.1))\n",
        "# End with a number of units equal to the number of classes we have for our outcome\n",
        "model_dense.add(Dense(60, activation='sigmoid'))\n",
        "\n",
        "model_dense.summary()\n",
        "\n",
        "# Compile the model to put it all together.\n",
        "model_dense.compile(loss='binary_crossentropy',\n",
        "              optimizer=RMSprop(),\n",
        "              metrics=['accuracy'])\n",
        "\n",
        "history_dense = model_dense.fit(X_flat_train, Y_train,\n",
        "                          batch_size=128,\n",
        "                          epochs=10,\n",
        "                          verbose=1,\n",
        "                          validation_data=(X_flat_test, Y_test))\n",
        "score = model_dense.evaluate(X_flat_test, Y_test, verbose=0)\n",
        "print('Test loss:', score[0])\n",
        "print('Test accuracy:', score[1])"
      ],
      "execution_count": null,
      "outputs": []
    }
  ]
}